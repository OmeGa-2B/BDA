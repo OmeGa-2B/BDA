{
 "cells": [
  {
   "cell_type": "markdown",
   "metadata": {
    "application/vnd.databricks.v1+cell": {
     "cellMetadata": {},
     "inputWidgets": {},
     "nuid": "c4b98ea5-719c-4e85-a6c9-1a4d09f79611",
     "showTitle": false,
     "title": ""
    }
   },
   "source": [
    "##Practica 4"
   ]
  },
  {
   "cell_type": "markdown",
   "metadata": {
    "application/vnd.databricks.v1+cell": {
     "cellMetadata": {},
     "inputWidgets": {},
     "nuid": "933adfb9-3a33-4a00-946a-a4d9053a1a86",
     "showTitle": false,
     "title": ""
    }
   },
   "source": [
    "Sanchez Abarca Bryan Jair"
   ]
  },
  {
   "cell_type": "code",
   "execution_count": 0,
   "metadata": {
    "application/vnd.databricks.v1+cell": {
     "cellMetadata": {
      "byteLimit": 2048000,
      "rowLimit": 10000
     },
     "inputWidgets": {},
     "nuid": "92309a44-ccde-4d6e-873e-acf5d5893303",
     "showTitle": false,
     "title": ""
    }
   },
   "outputs": [
    {
     "output_type": "stream",
     "name": "stdout",
     "output_type": "stream",
     "text": [
      "+----------+------+---+------------------+----------------------+\n|CustomerID| Genre|Age|Annual Income (k$)|Spending Score (1-100)|\n+----------+------+---+------------------+----------------------+\n|      0001|  Male| 19|                15|                    39|\n|      0002|  Male| 21|                15|                    81|\n|      0003|Female| 20|                16|                     6|\n|      0004|Female| 23|                16|                    77|\n|      0005|Female| 31|                17|                    40|\n|      0006|Female| 22|                17|                    76|\n|      0007|Female| 35|                18|                     6|\n|      0008|Female| 23|                18|                    94|\n|      0009|  Male| 64|                19|                     3|\n|      0010|Female| 30|                19|                    72|\n+----------+------+---+------------------+----------------------+\n\n"
     ]
    }
   ],
   "source": [
    "# Cargar la tabla en un DataFrame de PySpark\n",
    "df = spark.table(\"default.mall_customers_4_csv\")\n",
    "\n",
    "# Crear una vista temporal llamada \"mall_customers\"\n",
    "df.createOrReplaceTempView(\"mall_customers\")\n",
    "\n",
    "# Verificar que la vista temporal se haya creado correctamente\n",
    "spark.sql(\"SELECT * FROM mall_customers LIMIT 10\").show()\n",
    "\n"
   ]
  },
  {
   "cell_type": "markdown",
   "metadata": {
    "application/vnd.databricks.v1+cell": {
     "cellMetadata": {},
     "inputWidgets": {},
     "nuid": "fe5510ec-ff4f-4b3f-a378-fef44d175d50",
     "showTitle": false,
     "title": ""
    }
   },
   "source": [
    "##Sapark.sql\n"
   ]
  },
  {
   "cell_type": "code",
   "execution_count": 0,
   "metadata": {
    "application/vnd.databricks.v1+cell": {
     "cellMetadata": {
      "byteLimit": 2048000,
      "rowLimit": 10000
     },
     "inputWidgets": {},
     "nuid": "e2ff680f-65c0-4c8a-a4ad-d2d0a5ffe17f",
     "showTitle": false,
     "title": ""
    }
   },
   "outputs": [
    {
     "output_type": "stream",
     "name": "stdout",
     "output_type": "stream",
     "text": [
      "+--------+\n|count(1)|\n+--------+\n|     200|\n+--------+\n\n"
     ]
    }
   ],
   "source": [
    "# Consulta 1: Obtener la cantidad de clientes\n",
    "spark.sql(\"SELECT COUNT(*) FROM mall_customers_4_csv\").show()\n"
   ]
  },
  {
   "cell_type": "code",
   "execution_count": 0,
   "metadata": {
    "application/vnd.databricks.v1+cell": {
     "cellMetadata": {
      "byteLimit": 2048000,
      "rowLimit": 10000
     },
     "inputWidgets": {},
     "nuid": "9f441a3c-fea4-4aee-9a30-00ccb8a6e85f",
     "showTitle": false,
     "title": ""
    }
   },
   "outputs": [
    {
     "output_type": "stream",
     "name": "stdout",
     "output_type": "stream",
     "text": [
      "+----------+------+---+------------------+----------------------+\n|CustomerID| Genre|Age|Annual Income (k$)|Spending Score (1-100)|\n+----------+------+---+------------------+----------------------+\n|      0001|  Male| 19|                15|                    39|\n|      0002|  Male| 21|                15|                    81|\n|      0003|Female| 20|                16|                     6|\n|      0004|Female| 23|                16|                    77|\n|      0005|Female| 31|                17|                    40|\n|      0006|Female| 22|                17|                    76|\n|      0007|Female| 35|                18|                     6|\n|      0008|Female| 23|                18|                    94|\n|      0009|  Male| 64|                19|                     3|\n|      0010|Female| 30|                19|                    72|\n+----------+------+---+------------------+----------------------+\n\n"
     ]
    }
   ],
   "source": [
    "\n",
    "# Consulta 2: Ver los primeros 10 clientes\n",
    "spark.sql(\"SELECT * FROM mall_customers_4_csv LIMIT 10\").show()"
   ]
  },
  {
   "cell_type": "code",
   "execution_count": 0,
   "metadata": {
    "application/vnd.databricks.v1+cell": {
     "cellMetadata": {
      "byteLimit": 2048000,
      "rowLimit": 10000
     },
     "inputWidgets": {},
     "nuid": "7908bd13-0790-46db-bef2-49679a8edb64",
     "showTitle": false,
     "title": ""
    }
   },
   "outputs": [
    {
     "output_type": "stream",
     "name": "stdout",
     "output_type": "stream",
     "text": [
      "+------+-----+\n| Genre|Total|\n+------+-----+\n|Female|  112|\n|  Male|   88|\n+------+-----+\n\n"
     ]
    }
   ],
   "source": [
    "# Consulta 3: Agrupar clientes por género\n",
    "spark.sql(\"SELECT Genre, COUNT(*) as Total FROM mall_customers_4_csv GROUP BY Genre\").show()"
   ]
  },
  {
   "cell_type": "code",
   "execution_count": 0,
   "metadata": {
    "application/vnd.databricks.v1+cell": {
     "cellMetadata": {
      "byteLimit": 2048000,
      "rowLimit": 10000
     },
     "inputWidgets": {},
     "nuid": "24c527da-6309-4de1-b973-f1d733662f7d",
     "showTitle": false,
     "title": ""
    }
   },
   "outputs": [
    {
     "output_type": "stream",
     "name": "stdout",
     "output_type": "stream",
     "text": [
      "+------+-----------------+\n| Genre|       Avg_Income|\n+------+-----------------+\n|Female|            59.25|\n|  Male|62.22727272727273|\n+------+-----------------+\n\n"
     ]
    }
   ],
   "source": [
    "\n",
    "# Consulta 4: Obtener el ingreso anual promedio por género\n",
    "spark.sql(\"SELECT Genre, AVG(`Annual Income (k$)`) as Avg_Income FROM mall_customers GROUP BY Genre\").show()"
   ]
  },
  {
   "cell_type": "markdown",
   "metadata": {
    "application/vnd.databricks.v1+cell": {
     "cellMetadata": {},
     "inputWidgets": {},
     "nuid": "3f519026-bf89-4a8a-8dd0-d9fd89156708",
     "showTitle": false,
     "title": ""
    }
   },
   "source": [
    "##SQL NoteBook\n"
   ]
  },
  {
   "cell_type": "code",
   "execution_count": 0,
   "metadata": {
    "application/vnd.databricks.v1+cell": {
     "cellMetadata": {
      "byteLimit": 2048000,
      "implicitDf": true,
      "rowLimit": 10000
     },
     "inputWidgets": {},
     "nuid": "77cd4aad-4de5-46b4-8c32-e6a89153e682",
     "showTitle": false,
     "title": ""
    }
   },
   "outputs": [
    {
     "output_type": "display_data",
     "data": {
      "text/html": [
       "<style scoped>\n",
       "  .table-result-container {\n",
       "    max-height: 300px;\n",
       "    overflow: auto;\n",
       "  }\n",
       "  table, th, td {\n",
       "    border: 1px solid black;\n",
       "    border-collapse: collapse;\n",
       "  }\n",
       "  th, td {\n",
       "    padding: 5px;\n",
       "  }\n",
       "  th {\n",
       "    text-align: left;\n",
       "  }\n",
       "</style><div class='table-result-container'><table class='table-result'><thead style='background-color: white'><tr><th>count(1)</th></tr></thead><tbody><tr><td>200</td></tr></tbody></table></div>"
      ]
     },
     "metadata": {
      "application/vnd.databricks.v1+output": {
       "addedWidgets": {},
       "aggData": [],
       "aggError": "",
       "aggOverflow": false,
       "aggSchema": [],
       "aggSeriesLimitReached": false,
       "aggType": "",
       "arguments": {},
       "columnCustomDisplayInfos": {},
       "data": [
        [
         200
        ]
       ],
       "datasetInfos": [],
       "dbfsResultPath": null,
       "isJsonSchema": true,
       "metadata": {},
       "overflow": false,
       "plotOptions": {
        "customPlotOptions": {},
        "displayType": "table",
        "pivotAggregation": null,
        "pivotColumns": null,
        "xColumns": null,
        "yColumns": null
       },
       "removedWidgets": [],
       "schema": [
        {
         "metadata": "{\"__autoGeneratedAlias\":\"true\"}",
         "name": "count(1)",
         "type": "\"long\""
        }
       ],
       "type": "table"
      }
     },
     "output_type": "display_data"
    }
   ],
   "source": [
    "%sql\n",
    "-- Consulta 1: Obtener la cantidad de clientes\n",
    "SELECT COUNT(*) FROM default.mall_customers_4_csv;\n"
   ]
  },
  {
   "cell_type": "code",
   "execution_count": 0,
   "metadata": {
    "application/vnd.databricks.v1+cell": {
     "cellMetadata": {
      "byteLimit": 2048000,
      "implicitDf": true,
      "rowLimit": 10000
     },
     "inputWidgets": {},
     "nuid": "42138908-422c-4c65-9a66-d71870a39592",
     "showTitle": false,
     "title": ""
    }
   },
   "outputs": [
    {
     "output_type": "display_data",
     "data": {
      "text/html": [
       "<style scoped>\n",
       "  .table-result-container {\n",
       "    max-height: 300px;\n",
       "    overflow: auto;\n",
       "  }\n",
       "  table, th, td {\n",
       "    border: 1px solid black;\n",
       "    border-collapse: collapse;\n",
       "  }\n",
       "  th, td {\n",
       "    padding: 5px;\n",
       "  }\n",
       "  th {\n",
       "    text-align: left;\n",
       "  }\n",
       "</style><div class='table-result-container'><table class='table-result'><thead style='background-color: white'><tr><th>CustomerID</th><th>Genre</th><th>Age</th><th>Annual Income (k$)</th><th>Spending Score (1-100)</th></tr></thead><tbody><tr><td>0001</td><td>Male</td><td>19</td><td>15</td><td>39</td></tr><tr><td>0002</td><td>Male</td><td>21</td><td>15</td><td>81</td></tr><tr><td>0003</td><td>Female</td><td>20</td><td>16</td><td>6</td></tr><tr><td>0004</td><td>Female</td><td>23</td><td>16</td><td>77</td></tr><tr><td>0005</td><td>Female</td><td>31</td><td>17</td><td>40</td></tr><tr><td>0006</td><td>Female</td><td>22</td><td>17</td><td>76</td></tr><tr><td>0007</td><td>Female</td><td>35</td><td>18</td><td>6</td></tr><tr><td>0008</td><td>Female</td><td>23</td><td>18</td><td>94</td></tr><tr><td>0009</td><td>Male</td><td>64</td><td>19</td><td>3</td></tr><tr><td>0010</td><td>Female</td><td>30</td><td>19</td><td>72</td></tr></tbody></table></div>"
      ]
     },
     "metadata": {
      "application/vnd.databricks.v1+output": {
       "addedWidgets": {},
       "aggData": [],
       "aggError": "",
       "aggOverflow": false,
       "aggSchema": [],
       "aggSeriesLimitReached": false,
       "aggType": "",
       "arguments": {},
       "columnCustomDisplayInfos": {},
       "data": [
        [
         "0001",
         "Male",
         "19",
         "15",
         "39"
        ],
        [
         "0002",
         "Male",
         "21",
         "15",
         "81"
        ],
        [
         "0003",
         "Female",
         "20",
         "16",
         "6"
        ],
        [
         "0004",
         "Female",
         "23",
         "16",
         "77"
        ],
        [
         "0005",
         "Female",
         "31",
         "17",
         "40"
        ],
        [
         "0006",
         "Female",
         "22",
         "17",
         "76"
        ],
        [
         "0007",
         "Female",
         "35",
         "18",
         "6"
        ],
        [
         "0008",
         "Female",
         "23",
         "18",
         "94"
        ],
        [
         "0009",
         "Male",
         "64",
         "19",
         "3"
        ],
        [
         "0010",
         "Female",
         "30",
         "19",
         "72"
        ]
       ],
       "datasetInfos": [],
       "dbfsResultPath": null,
       "isJsonSchema": true,
       "metadata": {},
       "overflow": false,
       "plotOptions": {
        "customPlotOptions": {},
        "displayType": "table",
        "pivotAggregation": null,
        "pivotColumns": null,
        "xColumns": null,
        "yColumns": null
       },
       "removedWidgets": [],
       "schema": [
        {
         "metadata": "{}",
         "name": "CustomerID",
         "type": "\"string\""
        },
        {
         "metadata": "{}",
         "name": "Genre",
         "type": "\"string\""
        },
        {
         "metadata": "{}",
         "name": "Age",
         "type": "\"string\""
        },
        {
         "metadata": "{}",
         "name": "Annual Income (k$)",
         "type": "\"string\""
        },
        {
         "metadata": "{}",
         "name": "Spending Score (1-100)",
         "type": "\"string\""
        }
       ],
       "type": "table"
      }
     },
     "output_type": "display_data"
    }
   ],
   "source": [
    "%sql\n",
    "-- Consulta 2: Ver los primeros 10 clientes\n",
    "SELECT * FROM default.mall_customers_4_csv LIMIT 10;"
   ]
  },
  {
   "cell_type": "code",
   "execution_count": 0,
   "metadata": {
    "application/vnd.databricks.v1+cell": {
     "cellMetadata": {
      "byteLimit": 2048000,
      "implicitDf": true,
      "rowLimit": 10000
     },
     "inputWidgets": {},
     "nuid": "0a20826b-7fab-43d2-923c-756dda4edae0",
     "showTitle": false,
     "title": ""
    }
   },
   "outputs": [
    {
     "output_type": "display_data",
     "data": {
      "text/html": [
       "<style scoped>\n",
       "  .table-result-container {\n",
       "    max-height: 300px;\n",
       "    overflow: auto;\n",
       "  }\n",
       "  table, th, td {\n",
       "    border: 1px solid black;\n",
       "    border-collapse: collapse;\n",
       "  }\n",
       "  th, td {\n",
       "    padding: 5px;\n",
       "  }\n",
       "  th {\n",
       "    text-align: left;\n",
       "  }\n",
       "</style><div class='table-result-container'><table class='table-result'><thead style='background-color: white'><tr><th>Genre</th><th>Total</th></tr></thead><tbody><tr><td>Female</td><td>112</td></tr><tr><td>Male</td><td>88</td></tr></tbody></table></div>"
      ]
     },
     "metadata": {
      "application/vnd.databricks.v1+output": {
       "addedWidgets": {},
       "aggData": [],
       "aggError": "",
       "aggOverflow": false,
       "aggSchema": [],
       "aggSeriesLimitReached": false,
       "aggType": "",
       "arguments": {},
       "columnCustomDisplayInfos": {},
       "data": [
        [
         "Female",
         112
        ],
        [
         "Male",
         88
        ]
       ],
       "datasetInfos": [],
       "dbfsResultPath": null,
       "isJsonSchema": true,
       "metadata": {},
       "overflow": false,
       "plotOptions": {
        "customPlotOptions": {},
        "displayType": "table",
        "pivotAggregation": null,
        "pivotColumns": null,
        "xColumns": null,
        "yColumns": null
       },
       "removedWidgets": [],
       "schema": [
        {
         "metadata": "{}",
         "name": "Genre",
         "type": "\"string\""
        },
        {
         "metadata": "{}",
         "name": "Total",
         "type": "\"long\""
        }
       ],
       "type": "table"
      }
     },
     "output_type": "display_data"
    }
   ],
   "source": [
    "%sql\n",
    "\n",
    "-- Consulta 3: Agrupar clientes por género\n",
    "SELECT Genre, COUNT(*) as Total FROM default.mall_customers_4_csv GROUP BY Genre;\n"
   ]
  },
  {
   "cell_type": "code",
   "execution_count": 0,
   "metadata": {
    "application/vnd.databricks.v1+cell": {
     "cellMetadata": {
      "byteLimit": 2048000,
      "implicitDf": true,
      "rowLimit": 10000
     },
     "inputWidgets": {},
     "nuid": "5910cce1-28e0-4eaf-b7f3-d660b328002a",
     "showTitle": false,
     "title": ""
    }
   },
   "outputs": [
    {
     "output_type": "display_data",
     "data": {
      "text/html": [
       "<style scoped>\n",
       "  .table-result-container {\n",
       "    max-height: 300px;\n",
       "    overflow: auto;\n",
       "  }\n",
       "  table, th, td {\n",
       "    border: 1px solid black;\n",
       "    border-collapse: collapse;\n",
       "  }\n",
       "  th, td {\n",
       "    padding: 5px;\n",
       "  }\n",
       "  th {\n",
       "    text-align: left;\n",
       "  }\n",
       "</style><div class='table-result-container'><table class='table-result'><thead style='background-color: white'><tr><th>Genre</th><th>Avg_Income</th></tr></thead><tbody><tr><td>Female</td><td>59.25</td></tr><tr><td>Male</td><td>62.22727272727273</td></tr></tbody></table></div>"
      ]
     },
     "metadata": {
      "application/vnd.databricks.v1+output": {
       "addedWidgets": {},
       "aggData": [],
       "aggError": "",
       "aggOverflow": false,
       "aggSchema": [],
       "aggSeriesLimitReached": false,
       "aggType": "",
       "arguments": {},
       "columnCustomDisplayInfos": {},
       "data": [
        [
         "Female",
         59.25
        ],
        [
         "Male",
         62.22727272727273
        ]
       ],
       "datasetInfos": [],
       "dbfsResultPath": null,
       "isJsonSchema": true,
       "metadata": {},
       "overflow": false,
       "plotOptions": {
        "customPlotOptions": {},
        "displayType": "table",
        "pivotAggregation": null,
        "pivotColumns": null,
        "xColumns": null,
        "yColumns": null
       },
       "removedWidgets": [],
       "schema": [
        {
         "metadata": "{}",
         "name": "Genre",
         "type": "\"string\""
        },
        {
         "metadata": "{}",
         "name": "Avg_Income",
         "type": "\"double\""
        }
       ],
       "type": "table"
      }
     },
     "output_type": "display_data"
    }
   ],
   "source": [
    "%sql\n",
    "-- Consulta 4: Obtener el ingreso anual promedio por género\n",
    "\n",
    "SELECT Genre, AVG(`Annual Income (k$)`) as Avg_Income FROM mall_customers_4_csv GROUP BY Genre;"
   ]
  },
  {
   "cell_type": "markdown",
   "metadata": {
    "application/vnd.databricks.v1+cell": {
     "cellMetadata": {},
     "inputWidgets": {},
     "nuid": "77fec71f-406e-4553-ad1a-a41a700364b1",
     "showTitle": false,
     "title": ""
    }
   },
   "source": [
    "## Crear una tabla temporal con SQL"
   ]
  },
  {
   "cell_type": "code",
   "execution_count": 0,
   "metadata": {
    "application/vnd.databricks.v1+cell": {
     "cellMetadata": {
      "byteLimit": 2048000,
      "implicitDf": true,
      "rowLimit": 10000
     },
     "inputWidgets": {},
     "nuid": "8bd58fb1-df9a-428b-99d7-4c323a92a087",
     "showTitle": false,
     "title": ""
    }
   },
   "outputs": [
    {
     "output_type": "stream",
     "name": "stdout",
     "output_type": "stream",
     "text": [
      "+----------+------+---+------------------+----------------------+\n|CustomerID| Genre|Age|Annual Income (k$)|Spending Score (1-100)|\n+----------+------+---+------------------+----------------------+\n|      0001|  Male| 19|                15|                    39|\n|      0002|  Male| 21|                15|                    81|\n|      0003|Female| 20|                16|                     6|\n|      0004|Female| 23|                16|                    77|\n|      0005|Female| 31|                17|                    40|\n|      0006|Female| 22|                17|                    76|\n|      0007|Female| 35|                18|                     6|\n|      0008|Female| 23|                18|                    94|\n|      0009|  Male| 64|                19|                     3|\n|      0010|Female| 30|                19|                    72|\n+----------+------+---+------------------+----------------------+\n\n"
     ]
    }
   ],
   "source": [
    "# Crear una tabla temporal a partir de la vista temporal \"mall_customers\"\n",
    "spark.sql(\"\"\"\n",
    "CREATE OR REPLACE TEMPORARY VIEW temp_mall_customers AS\n",
    "SELECT * FROM mall_customers_4_csv\n",
    "\"\"\")\n",
    "\n",
    "# Verificar que la nueva tabla temporal se haya creado correctamente\n",
    "spark.sql(\"SELECT * FROM temp_mall_customers LIMIT 10\").show()\n"
   ]
  },
  {
   "cell_type": "markdown",
   "metadata": {
    "application/vnd.databricks.v1+cell": {
     "cellMetadata": {},
     "inputWidgets": {},
     "nuid": "abaf7f58-d7f1-405f-858a-538f8d8489a3",
     "showTitle": false,
     "title": ""
    }
   },
   "source": [
    "##almacenar los resultados de la consulta en archivos parquet"
   ]
  },
  {
   "cell_type": "code",
   "execution_count": 0,
   "metadata": {
    "application/vnd.databricks.v1+cell": {
     "cellMetadata": {
      "byteLimit": 2048000,
      "rowLimit": 10000
     },
     "inputWidgets": {},
     "nuid": "be64487e-7c6d-47a7-9669-3725da3540ae",
     "showTitle": false,
     "title": ""
    }
   },
   "outputs": [],
   "source": [
    "# Guardar los resultados en formato Parquet\n",
    "result_df = spark.sql(\"SELECT * FROM mall_customers_4_csv\")\n",
    "result_df.write.parquet(\"/FileStore/tables/mall_customers_parquet_1\")\n"
   ]
  }
 ],
 "metadata": {
  "application/vnd.databricks.v1+notebook": {
   "dashboards": [],
   "environmentMetadata": null,
   "language": "python",
   "notebookMetadata": {
    "mostRecentlyExecutedCommandWithImplicitDF": {
     "commandId": -1,
     "dataframes": [
      "_sqldf"
     ]
    },
    "pythonIndentUnit": 4
   },
   "notebookName": "Untitled Notebook 2024-10-15 18:55:40",
   "widgets": {}
  }
 },
 "nbformat": 4,
 "nbformat_minor": 0
}
